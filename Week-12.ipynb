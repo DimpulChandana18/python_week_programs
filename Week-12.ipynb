{
 "cells": [
  {
   "cell_type": "code",
   "execution_count": null,
   "id": "71fc4ebb-78e1-47a5-ba51-8b2fa73e0087",
   "metadata": {},
   "outputs": [],
   "source": [
    "1.Write a program to implement Digital Logic Gates – AND, OR, NOT, EX-OR\n",
    "Program(and):\n",
    "def AND(a,b):\n",
    "    if a==1 and b==1:\n",
    "        return True\n",
    "    else:\n",
    "        return False\n",
    "print(AND(1,1),\"=AND(1,1)\")\n",
    "print(AND(0,0),\"=AND(0,0)\")\n",
    "print(AND(1,0),\"=AND(1,0)\")\n",
    "print(AND(0,1),\"=AND(0,1)\")\n"
   ]
  },
  {
   "cell_type": "code",
   "execution_count": null,
   "id": "545a8527-9b9b-4bdd-9d62-3f52d611e28d",
   "metadata": {},
   "outputs": [],
   "source": [
    "Program(or):\n",
    "def OR(a,b):\n",
    "    if a==1 or b==1:\n",
    "        return True\n",
    "    else:\n",
    "        return False\n",
    "print(OR(1,1),\"=OR(1,1)\")\n",
    "print(OR(0,0),\"=OR(0,0)\")\n",
    "print(OR(1,0),\"=OR(1,0)\")\n",
    "print(OR(0,1),\"=OR(0,1)\")\n"
   ]
  },
  {
   "cell_type": "code",
   "execution_count": null,
   "id": "8fa08daa-4c1e-4003-94e6-5fb183c75366",
   "metadata": {},
   "outputs": [],
   "source": [
    "Program(not):\n",
    "def NOT(a):\n",
    "    if a==1 :\n",
    "        return False\n",
    "    else:\n",
    "        return True\n",
    "print(NOT(1),\"=NOT(1)\")\n",
    "print(NOT(0),\"=NOT(0)\")"
   ]
  },
  {
   "cell_type": "code",
   "execution_count": null,
   "id": "b3f14275-f8b8-456d-998c-956546f4af95",
   "metadata": {},
   "outputs": [],
   "source": [
    "Program(EX-OR):\n",
    "def XOR_gate(a, b):\n",
    "    if a != b:\n",
    "        return 1\n",
    "    else:\n",
    "        return 0\n",
    "print(\"XOR Gate:\", XOR_gate(5,5))\n"
   ]
  },
  {
   "cell_type": "code",
   "execution_count": 4,
   "id": "4dc7c6d2-4418-495d-af7f-c0a83e931677",
   "metadata": {},
   "outputs": [
    {
     "name": "stdout",
     "output_type": "stream",
     "text": [
      "0 1\n",
      "1 0\n",
      "1 0\n",
      "0 1\n"
     ]
    }
   ],
   "source": [
    "#Program(Half Adder):\n",
    "def XOR(a,b):\n",
    "    if a!=b:\n",
    "        return 1\n",
    "    else:\n",
    "        return 0\n",
    "def AND(a,b):\n",
    "    if a==b:\n",
    "        return 1\n",
    "    else:\n",
    "        return 0\n",
    "def half_adder(a,b):\n",
    "    sum=XOR(a,b)\n",
    "    carry=AND(a,b)\n",
    "    return sum,carry\n",
    "sum,carry=half_adder(0,0)\n",
    "print(sum,carry)\n",
    "sum,carry=half_adder(0,1)\n",
    "print(sum,carry)\n",
    "sum,carry=half_adder(1,0)\n",
    "print(sum,carry)\n",
    "sum,carry=half_adder(1,1)\n",
    "print(sum,carry)\n"
   ]
  },
  {
   "cell_type": "code",
   "execution_count": null,
   "id": "813126f7-8e2d-4e43-a423-f590f94600c2",
   "metadata": {},
   "outputs": [],
   "source": [
    "Program(full adder):\n",
    "def half_adder(a,b):\n",
    "    sum=a^b\n",
    "    carry = a and b\n",
    "    return carry,sum\n",
    "def full_adder(carry_in,a,b):\n",
    "    carry1,sum1=half_adder(carry_in,a)\n",
    "    carry2,sum=half_adder(sum1,b)\n",
    "    carry=carry1 or carry2\n",
    "    return carry,sum\n",
    "carry,sum=full_adder(0,0,0)\n",
    "print(sum,carry)\n",
    "carry,sum=full_adder(0,0,1)\n",
    "print(sum,carry)\n",
    "carry,sum=full_adder(0,1,0)\n",
    "print(sum,carry)\n",
    "carry,sum=full_adder(0,1,1)\n",
    "print(sum,carry)\n",
    "carry,sum=full_adder(1,0,0)\n",
    "print(sum,carry)\n",
    "carry,sum=full_adder(1,0,1)\n",
    "print(sum,carry)\n",
    "carry,sum=full_adder(1,1,0)\n",
    "print(sum,carry)\n",
    "carry,sum=full_adder(1,1,1)\n",
    "print(sum,carry)\n"
   ]
  },
  {
   "cell_type": "code",
   "execution_count": 6,
   "id": "42be953c-b0f8-4682-94f4-72ea16d9316d",
   "metadata": {},
   "outputs": [
    {
     "name": "stdout",
     "output_type": "stream",
     "text": [
      "[1, 1, 1, 1, 1]\n",
      "[1, 1, 1, 1, 1]\n",
      "[0]\n",
      "[1, 0]\n",
      "[1, 1, 0]\n",
      "[1, 1, 1, 0]\n",
      "[1, 1, 1, 1, 0]\n",
      "111110\n",
      "Woo hoo! It works\n",
      "31 + 31 = 62\n"
     ]
    }
   ],
   "source": [
    "#Prallel Adder:\n",
    "\n",
    "def half_adder(a, b):\n",
    "    # ^ is logical xor in python\n",
    "    sum = a ^ b\n",
    "    carry = a and b\n",
    "    return carry,sum\n",
    "\n",
    "# A binary full adder\n",
    "# The full adder can add 3 bits (can handle an incoming carry)\n",
    "# Also returns a sum and carry\n",
    "#\n",
    "def full_adder(carry_in, a, b):\n",
    "    carry1,sum1 = half_adder(carry_in,a)\n",
    "    carry2,sum = half_adder(sum1,b)\n",
    "    carry = carry1 or carry2\n",
    "    return carry,sum\n",
    "\n",
    "# This method virtually chains together binary full adders in order\n",
    "# to add binary numbers of arbitrary size.\n",
    "#\n",
    "# a and b are expected to be strings representing binary integers.\n",
    "# \n",
    "#\n",
    "def binary_adder(a,b):\n",
    "    an = len(a)\n",
    "    bn = len(b)\n",
    "\n",
    "    # Convert strings to list of bits -- very functional syntax here\n",
    "    al = list(int(x,2) for x in list(a))\n",
    "    bl = list(int(x,2) for x in list(b))\n",
    "\n",
    "    # Pad smaller list with 0's\n",
    "    dif = an - bn\n",
    "    # more digits in a than b\n",
    "    if dif > 0:\n",
    "        for i in range(dif):\n",
    "            bl.insert(0,0)\n",
    "    else:\n",
    "        for i in range(abs(dif)):\n",
    "            al.insert(0,0)\n",
    "\n",
    "    print(al)\n",
    "    print(bl)\n",
    "            \n",
    "    result = []\n",
    "    carry = 0\n",
    "    # Iterate through list right to left, calling full_adder each time and\n",
    "    # inserting the sum each time\n",
    "    for i in range(len(al)-1,-1,-1):\n",
    "        carry,sum = full_adder(carry,al[i],bl[i])\n",
    "        result.insert(0,sum)\n",
    "        print (result)\n",
    "    result.insert(0,carry)\n",
    "\n",
    "    return ''.join(str(x) for x in result)\n",
    "\n",
    "def test_binary_adder(a,b):\n",
    "    result = binary_adder(a,b)\n",
    "    print(result)\n",
    "    if (int(a,2) + int(b,2)) == int(result,2):\n",
    "        print(\"Woo hoo! It works\")\n",
    "    else:\n",
    "        print(\"FAIL!!\")\n",
    "    print(str(int(a,2)) + \" + \" + str(int(b,2)) + \" = \" + str(int(result,2)))\n",
    "test_binary_adder('11111','11111')\n"
   ]
  },
  {
   "cell_type": "code",
   "execution_count": null,
   "id": "c15fb460-534d-48c3-a180-5c16a32c7145",
   "metadata": {},
   "outputs": [],
   "source": []
  }
 ],
 "metadata": {
  "kernelspec": {
   "display_name": "Python 3 (ipykernel)",
   "language": "python",
   "name": "python3"
  },
  "language_info": {
   "codemirror_mode": {
    "name": "ipython",
    "version": 3
   },
   "file_extension": ".py",
   "mimetype": "text/x-python",
   "name": "python",
   "nbconvert_exporter": "python",
   "pygments_lexer": "ipython3",
   "version": "3.12.4"
  }
 },
 "nbformat": 4,
 "nbformat_minor": 5
}
