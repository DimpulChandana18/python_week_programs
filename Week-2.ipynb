{
 "cells": [
  {
   "cell_type": "code",
   "execution_count": 1,
   "id": "00dc74ae-67be-4c2d-8716-d8aa67231886",
   "metadata": {},
   "outputs": [
    {
     "name": "stdout",
     "output_type": "stream",
     "text": [
      "5 \n",
      "\n",
      "4 4 \n",
      "\n",
      "3 3 3 \n",
      "\n",
      "2 2 2 2 \n",
      "\n",
      "1 1 1 1 1 \n",
      "\n"
     ]
    }
   ],
   "source": [
    "num=5\n",
    "for i in range(0,5):\n",
    "    for j in range(0,i+1):\n",
    "        print(num,end=\" \")\n",
    "    print(\"\\n\")\n",
    "    num=num-1"
   ]
  },
  {
   "cell_type": "code",
   "execution_count": 3,
   "id": "f02396b5-3b0f-44d5-994e-ff4ee4ec0a0a",
   "metadata": {},
   "outputs": [
    {
     "name": "stdin",
     "output_type": "stream",
     "text": [
      "enter any element 5*\n"
     ]
    },
    {
     "name": "stdout",
     "output_type": "stream",
     "text": [
      "special characters\n"
     ]
    }
   ],
   "source": [
    "a=input(\"enter any element\")\n",
    "if a.islower():\n",
    "    print(\"given input is of lower case characters\")\n",
    "elif a.isupper():\n",
    "    print(\"given input is of upper case characters\")\n",
    "elif a.isalnum():\n",
    "    print(\"Given input are numbers\")\n",
    "else:\n",
    "    print(\"special characters\")"
   ]
  },
  {
   "cell_type": "code",
   "execution_count": 5,
   "id": "20147168-37e4-4956-8a9e-2972d1df36f4",
   "metadata": {},
   "outputs": [
    {
     "name": "stdin",
     "output_type": "stream",
     "text": [
      "enter the number of elements in fibonacci series 23\n"
     ]
    },
    {
     "name": "stdout",
     "output_type": "stream",
     "text": [
      "0\n",
      "1\n",
      "1\n",
      "2\n",
      "3\n",
      "5\n",
      "8\n",
      "13\n",
      "21\n",
      "34\n",
      "55\n",
      "89\n",
      "144\n",
      "233\n",
      "377\n",
      "610\n",
      "987\n",
      "1597\n",
      "2584\n",
      "4181\n",
      "6765\n",
      "10946\n",
      "17711\n"
     ]
    }
   ],
   "source": [
    "a=int(input(\"enter the number of elements in fibonacci series\"))\n",
    "l=0\n",
    "i=0\n",
    "j=1\n",
    "k=i+j\n",
    "for l in range(0,a):\n",
    "    print(i)\n",
    "    i=j\n",
    "    j=k\n",
    "    k=i+j"
   ]
  },
  {
   "cell_type": "code",
   "execution_count": 7,
   "id": "bac0865a-8c05-4ae4-93c5-a19c066c24ed",
   "metadata": {},
   "outputs": [
    {
     "name": "stdin",
     "output_type": "stream",
     "text": [
      "enter the lowest  range 3\n",
      "enter the upper range 4\n"
     ]
    },
    {
     "name": "stdout",
     "output_type": "stream",
     "text": [
      "3  is a prime number\n"
     ]
    }
   ],
   "source": [
    "count=0\n",
    "a=int(input(\"enter the lowest  range\"))\n",
    "b=int(input(\"enter the upper range\"))\n",
    "for n in range(a,b):\n",
    "    if(n>0):\n",
    "        for j in range(1,n+1):\n",
    "            if(n%j==0):\n",
    "                count=count+1\n",
    "                        \n",
    "        if(count==2):\n",
    "            print(n,\" is a prime number\")\n",
    "        count=0\n",
    "    else:\n",
    "        break"
   ]
  },
  {
   "cell_type": "code",
   "execution_count": 13,
   "id": "592b965a-43c2-4d2c-8dd5-3165ef8893dd",
   "metadata": {},
   "outputs": [
    {
     "name": "stdin",
     "output_type": "stream",
     "text": [
      "enter a number 3\n",
      "enter another number 5\n"
     ]
    },
    {
     "name": "stdout",
     "output_type": "stream",
     "text": [
      "LCM of given numbers : 15\n"
     ]
    }
   ],
   "source": [
    "import math as m\n",
    "num1=int(input(\"enter a number\"))\n",
    "num2=int(input(\"enter another number\"))\n",
    "HCF=m.gcd(num1,num2)\n",
    "LCM=int((num1*num2)/(HCF))\n",
    "print(\"LCM of given numbers :\",LCM)"
   ]
  },
  {
   "cell_type": "code",
   "execution_count": 19,
   "id": "cf4d35c8-1319-405d-85aa-44ca745cb56f",
   "metadata": {},
   "outputs": [
    {
     "name": "stdout",
     "output_type": "stream",
     "text": [
      "The sum of -f and C:\\Users\\ADMIN\\AppData\\Roaming\\jupyter\\runtime\\kernel-e9a20dc8-fac9-492b-bc71-7816fd6507d7.json is -fC:\\Users\\ADMIN\\AppData\\Roaming\\jupyter\\runtime\\kernel-e9a20dc8-fac9-492b-bc71-7816fd6507d7.json\n"
     ]
    }
   ],
   "source": [
    "\n",
    "import sys\n",
    "if len(sys.argv) != 3:\n",
    "    print(\"Usage: python add.py <number1> <number2>\")\n",
    "    sys.exit(1)\n",
    "\n",
    "# Convert the command line arguments to integers\n",
    "num1 = sys.argv[1]\n",
    "num2 = sys.argv[2]\n",
    "\n",
    "# Calculate and print the sum\n",
    "sum = num1 + num2\n",
    "print(\"The sum of\", num1, \"and\", num2, \"is\", sum)"
   ]
  },
  {
   "cell_type": "code",
   "execution_count": null,
   "id": "0861fb1d-df92-496c-9a78-bbba7267a3ef",
   "metadata": {},
   "outputs": [],
   "source": []
  }
 ],
 "metadata": {
  "kernelspec": {
   "display_name": "Python 3 (ipykernel)",
   "language": "python",
   "name": "python3"
  },
  "language_info": {
   "codemirror_mode": {
    "name": "ipython",
    "version": 3
   },
   "file_extension": ".py",
   "mimetype": "text/x-python",
   "name": "python",
   "nbconvert_exporter": "python",
   "pygments_lexer": "ipython3",
   "version": "3.12.4"
  }
 },
 "nbformat": 4,
 "nbformat_minor": 5
}
