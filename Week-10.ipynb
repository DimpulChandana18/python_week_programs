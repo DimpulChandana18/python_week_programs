{
 "cells": [
  {
   "cell_type": "code",
   "execution_count": 9,
   "id": "f0529960-7ae4-4a17-ae16-e5ca9247f4a4",
   "metadata": {},
   "outputs": [
    {
     "name": "stdout",
     "output_type": "stream",
     "text": [
      "0    1\n",
      "1    2\n",
      "2    3\n",
      "dtype: int64\n"
     ]
    }
   ],
   "source": [
    "#Pandas Series:\n",
    "#Program:\n",
    "import pandas as pd\n",
    "a=[1,2,3]\n",
    "s=pd.Series(a)\n",
    "print(s)"
   ]
  },
  {
   "cell_type": "code",
   "execution_count": 11,
   "id": "34a19d86-4a34-413b-8041-561489a4b6d5",
   "metadata": {},
   "outputs": [
    {
     "name": "stdout",
     "output_type": "stream",
     "text": [
      "1\n"
     ]
    }
   ],
   "source": [
    "#Labels:\n",
    "import pandas as pd \n",
    "a=[1,2,3] \n",
    "s=pd.Series(a) \n",
    "print(s[0])"
   ]
  },
  {
   "cell_type": "code",
   "execution_count": 19,
   "id": "a7206341-f985-40b8-bdb1-065a6833d485",
   "metadata": {},
   "outputs": [
    {
     "name": "stdout",
     "output_type": "stream",
     "text": [
      "a    1\n",
      "b    2\n",
      "c    3\n",
      "dtype: int64\n"
     ]
    }
   ],
   "source": [
    "#Creating Labels:\n",
    "#Program\n",
    "import pandas as pd\n",
    "a=[1,2,3] \n",
    "s=pd.Series(index= ['a','b','c'],data=a)\n",
    "print(s)"
   ]
  },
  {
   "cell_type": "code",
   "execution_count": 28,
   "id": "f84959cd-5e86-4f94-bc38-495ac533b9d8",
   "metadata": {},
   "outputs": [
    {
     "name": "stdout",
     "output_type": "stream",
     "text": [
      "  Fruits  Qty.   color\n",
      "0  apple     1     red\n",
      "1  mango     2  Yellow\n",
      "2   kiwi     3    Rust\n"
     ]
    }
   ],
   "source": [
    "import pandas as pd \n",
    "a={\"Fruits\":[\"apple\",\"mango\",\"kiwi\"], \"Qty.\":[1,2,3], \"color\":[\"red\",\"Yellow\",\"Rust\"] } \n",
    "df=pd.DataFrame(a) \n",
    "print(df)"
   ]
  },
  {
   "cell_type": "code",
   "execution_count": 30,
   "id": "89253eb1-a4d3-460a-b883-f8cbde8f0c03",
   "metadata": {},
   "outputs": [
    {
     "name": "stdout",
     "output_type": "stream",
     "text": [
      "  Fruits  Qty\n",
      "x  apple    1\n",
      "y  mango    2\n",
      "z   kiwi    3\n"
     ]
    }
   ],
   "source": [
    "#Index in DataFrame:\n",
    "import pandas as pd\n",
    "a={\n",
    "\"Fruits\":[\"apple\",\"mango\",\"kiwi\"],\n",
    "\"Qty\":[1,2,3]\n",
    "}\n",
    "df=pd.DataFrame(a,index=[\"x\",\"y\",\"z\"])\n",
    "print(df)"
   ]
  },
  {
   "cell_type": "code",
   "execution_count": 36,
   "id": "491d4156-aa44-4db6-af83-6c40bda2982c",
   "metadata": {},
   "outputs": [
    {
     "name": "stdout",
     "output_type": "stream",
     "text": [
      "Fruits    apple\n",
      "Qty           1\n",
      "Name: x, dtype: object\n"
     ]
    }
   ],
   "source": [
    "#Loc :\n",
    "import pandas as pd\n",
    "a={\n",
    "\"Fruits\":[\"apple\",\"mango\",\"kiwi\"],\n",
    "\"Qty\":[1,2,3]\n",
    "}\n",
    "df=pd.DataFrame(a,index=[\"x\",\"y\",\"z\"])\n",
    "print(df.loc[\"x\"])"
   ]
  },
  {
   "cell_type": "code",
   "execution_count": null,
   "id": "96516fc7-5af0-4c11-907d-214af39ad26c",
   "metadata": {},
   "outputs": [],
   "source": []
  }
 ],
 "metadata": {
  "kernelspec": {
   "display_name": "Python 3 (ipykernel)",
   "language": "python",
   "name": "python3"
  },
  "language_info": {
   "codemirror_mode": {
    "name": "ipython",
    "version": 3
   },
   "file_extension": ".py",
   "mimetype": "text/x-python",
   "name": "python",
   "nbconvert_exporter": "python",
   "pygments_lexer": "ipython3",
   "version": "3.12.4"
  }
 },
 "nbformat": 4,
 "nbformat_minor": 5
}
