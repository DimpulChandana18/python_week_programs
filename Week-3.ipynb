{
 "cells": [
  {
   "cell_type": "code",
   "execution_count": 3,
   "id": "633ae291-b199-4863-b2fe-c0b412bc8361",
   "metadata": {},
   "outputs": [
    {
     "name": "stdout",
     "output_type": "stream",
     "text": [
      "list_array: array('i', [1, 2, 3])\n",
      "tuple_array: array('i', [4, 9, 0])\n"
     ]
    }
   ],
   "source": [
    "from array import array\n",
    "list=[1,2,3]\n",
    "list_array=array(\"i\",list)\n",
    "print(\"list_array:\",list_array)\n",
    "tuple=(4,9,0)\n",
    "tuple_array=array(\"i\",tuple)\n",
    "print(\"tuple_array:\",tuple_array)"
   ]
  },
  {
   "cell_type": "code",
   "execution_count": 5,
   "id": "e5d8cf3b-7021-49b2-a4b1-15f7aed98cda",
   "metadata": {},
   "outputs": [
    {
     "name": "stdout",
     "output_type": "stream",
     "text": [
      "{8}\n"
     ]
    }
   ],
   "source": [
    "from array import *\n",
    "array1=array('i',[7,8,9,8])\n",
    "array2=array('i',[23,33,11,8])\n",
    "common_values=[]\n",
    "for i in array1:\n",
    "    for j in array2:\n",
    "        if i==j:\n",
    "            common_values.append(i)\n",
    "common_values=set(common_values)\n",
    "print(common_values)"
   ]
  },
  {
   "cell_type": "code",
   "execution_count": 7,
   "id": "1092b196-f2b7-4577-93ad-efced4ebacf5",
   "metadata": {},
   "outputs": [
    {
     "name": "stdout",
     "output_type": "stream",
     "text": [
      "GCD of 48 and 18 is: 6\n"
     ]
    }
   ],
   "source": [
    "def gcd(a, b):\n",
    "    while b:\n",
    "        a, b = b, a % b\n",
    "    return a\n",
    "num1 = 48\n",
    "num2 = 18\n",
    "result = gcd(num1, num2)\n",
    "print(\"GCD of\", num1, \"and\", num2, \"is:\", result)"
   ]
  },
  {
   "cell_type": "code",
   "execution_count": 21,
   "id": "0c8bb0ec-97cb-410e-8023-e40db9e049d0",
   "metadata": {},
   "outputs": [
    {
     "name": "stdin",
     "output_type": "stream",
     "text": [
      "enter a string  12321\n"
     ]
    },
    {
     "name": "stdout",
     "output_type": "stream",
     "text": [
      "True\n"
     ]
    }
   ],
   "source": [
    "def palindrome(string):\n",
    "    \n",
    "    len_string=len(string)\n",
    "    for i in range(0,int(len_string/2)):\n",
    "        if(string[i]==string[len_string-1]):\n",
    "            len_string=len_string-1\n",
    "            return True\n",
    "        else:\n",
    "            return False\n",
    "a=input(\"enter a string \")\n",
    "c=palindrome(a)\n",
    "print(c)"
   ]
  },
  {
   "cell_type": "code",
   "execution_count": 27,
   "id": "dcf89445-c77d-4860-ba71-932c360dfbb6",
   "metadata": {},
   "outputs": [
    {
     "name": "stdin",
     "output_type": "stream",
     "text": [
      "enter the number of elements 2\n"
     ]
    },
    {
     "name": "stdout",
     "output_type": "stream",
     "text": [
      "enter the element\n"
     ]
    },
    {
     "name": "stdin",
     "output_type": "stream",
     "text": [
      " 3\n"
     ]
    },
    {
     "name": "stdout",
     "output_type": "stream",
     "text": [
      "enter the element\n"
     ]
    },
    {
     "name": "stdin",
     "output_type": "stream",
     "text": [
      " 4\n"
     ]
    },
    {
     "name": "stdout",
     "output_type": "stream",
     "text": [
      "mean= 3.5\n",
      "mode= 3\n",
      "median= 3.5\n"
     ]
    }
   ],
   "source": [
    "import statistics as s\n",
    "list=[]\n",
    "n=int(input(\"enter the number of elements\"))\n",
    "for i in range(0,n):\n",
    "    print(\"enter the element\")\n",
    "    elements=int(input())\n",
    "    list.append(elements)\n",
    "print(\"mean=\",s.mean(list))\n",
    "print(\"mode=\",s.mode(list))\n",
    "print(\"median=\",s.median(list))"
   ]
  },
  {
   "cell_type": "code",
   "execution_count": 35,
   "id": "6b349d9e-9026-4737-a91e-b8bb5bd0e81e",
   "metadata": {},
   "outputs": [
    {
     "name": "stdout",
     "output_type": "stream",
     "text": [
      "(478, 456, 98)\n",
      "<class 'tuple'>\n"
     ]
    }
   ],
   "source": [
    "tuple1=(478,456,98)\n",
    "print(tuple1)\n",
    "print(type(tuple1))"
   ]
  },
  {
   "cell_type": "code",
   "execution_count": 37,
   "id": "c87c13f2-d487-4e68-9d23-5220ff52cee7",
   "metadata": {},
   "outputs": [
    {
     "name": "stdout",
     "output_type": "stream",
     "text": [
      "('hello', 123, True)\n"
     ]
    }
   ],
   "source": [
    "tuple2=(\"hello\",123,True)\n",
    "print(tuple2)"
   ]
  },
  {
   "cell_type": "code",
   "execution_count": 39,
   "id": "260061db-ef54-4149-84ea-a4ea9be1b77d",
   "metadata": {},
   "outputs": [
    {
     "name": "stdin",
     "output_type": "stream",
     "text": [
      "enter the element you want to search in the tuple:  cat\n"
     ]
    },
    {
     "name": "stdout",
     "output_type": "stream",
     "text": [
      "Element exist within the tuple\n"
     ]
    }
   ],
   "source": [
    "a=input(\"enter the element you want to search in the tuple: \")\n",
    "tuple1=(\"Dog\",\"cat\",True,50,20)\n",
    "len_tuple1=len(tuple1)\n",
    "for i in range(0,len_tuple1):\n",
    "    if(a==tuple1[i]):\n",
    "        print(\"Element exist within the tuple\")"
   ]
  },
  {
   "cell_type": "code",
   "execution_count": null,
   "id": "297d4833-b447-4d25-975b-488d5e6d4eb0",
   "metadata": {},
   "outputs": [],
   "source": []
  }
 ],
 "metadata": {
  "kernelspec": {
   "display_name": "Python 3 (ipykernel)",
   "language": "python",
   "name": "python3"
  },
  "language_info": {
   "codemirror_mode": {
    "name": "ipython",
    "version": 3
   },
   "file_extension": ".py",
   "mimetype": "text/x-python",
   "name": "python",
   "nbconvert_exporter": "python",
   "pygments_lexer": "ipython3",
   "version": "3.12.4"
  }
 },
 "nbformat": 4,
 "nbformat_minor": 5
}
