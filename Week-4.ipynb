{
 "cells": [
  {
   "cell_type": "code",
   "execution_count": 1,
   "id": "81343528-2f37-410b-bc4d-a2a564a126b2",
   "metadata": {},
   "outputs": [
    {
     "name": "stdout",
     "output_type": "stream",
     "text": [
      "False\n",
      "True\n",
      "False\n"
     ]
    }
   ],
   "source": [
    "def is_sorted(lst):\n",
    "    return lst == sorted(lst)\n",
    "print(is_sorted([1, 2, 0]))  \n",
    "print(is_sorted(['b', 'c','d'])) \n",
    "print(is_sorted([1, 2, 3, 4, 0, 5, 6]))  "
   ]
  },
  {
   "cell_type": "code",
   "execution_count": 3,
   "id": "0aaf590b-f61a-448d-be2a-5f38cd540847",
   "metadata": {},
   "outputs": [
    {
     "name": "stdout",
     "output_type": "stream",
     "text": [
      "True\n"
     ]
    }
   ],
   "source": [
    "def as_duplicate(list1):\n",
    "    a=len(list1)\n",
    "    for i in range(0,a+1):\n",
    "        for j in range(i+1,a):\n",
    "            if(list1[i]==list1[j]):\n",
    "                return True\n",
    "    return False\n",
    "list1=[1,2,6,4,5,1]\n",
    "c=as_duplicate(list1)\n",
    "print(c)"
   ]
  },
  {
   "cell_type": "code",
   "execution_count": 5,
   "id": "f6b3c2a7-fb30-4b3c-ade4-10501686f204",
   "metadata": {},
   "outputs": [
    {
     "name": "stdout",
     "output_type": "stream",
     "text": [
      "[2, 3, 5, 6, 8, 9]\n"
     ]
    }
   ],
   "source": [
    "def remove_duplicates(input_list):\n",
    "    unique_list = list(set(input_list))\n",
    "    return unique_list\n",
    "original_list = [2, 3, 2, 5, 6, 5, 8, 2, 9]\n",
    "new_list = remove_duplicates(original_list)\n",
    "print(new_list)"
   ]
  },
  {
   "cell_type": "code",
   "execution_count": 7,
   "id": "8e4b2ed4-207d-47a0-b770-75c1d6d23136",
   "metadata": {},
   "outputs": [
    {
     "name": "stdout",
     "output_type": "stream",
     "text": [
      "{1: 'a', 2: 'b', 3: 'c'}\n"
     ]
    }
   ],
   "source": [
    "original_dict = {'a': 1, 'b': 2, 'c': 3}\n",
    "interchanged_dict = {value: key for key, value in original_dict.items()}\n",
    "\n",
    "print(interchanged_dict)"
   ]
  },
  {
   "cell_type": "code",
   "execution_count": 9,
   "id": "907df950-2bcc-457b-bbb8-2917b4d63df9",
   "metadata": {},
   "outputs": [
    {
     "name": "stdout",
     "output_type": "stream",
     "text": [
      "a,p,p,l,e\n"
     ]
    }
   ],
   "source": [
    "x=\"apple\"\n",
    "y=','.join(x)\n",
    "print(y)"
   ]
  },
  {
   "cell_type": "code",
   "execution_count": 11,
   "id": "7070ea37-fb15-472c-859a-0a9379a0df7b",
   "metadata": {},
   "outputs": [
    {
     "name": "stdout",
     "output_type": "stream",
     "text": [
      "Th  just a test.\n"
     ]
    }
   ],
   "source": [
    "x=\"This is just a test.\"\n",
    "y=x.replace(\"is\",\"\")\n",
    "print(y)"
   ]
  },
  {
   "cell_type": "code",
   "execution_count": 19,
   "id": "727de2e1-fc6b-4430-b33e-72f470bc7b01",
   "metadata": {},
   "outputs": [
    {
     "name": "stdin",
     "output_type": "stream",
     "text": [
      "Enter a sentence:  hello, this is dimpul\n"
     ]
    },
    {
     "name": "stdout",
     "output_type": "stream",
     "text": [
      "Hello, This Is Dimpul\n"
     ]
    }
   ],
   "source": [
    "def capitalizing(sentence):\n",
    "    words = sentence.split()\n",
    "    cap_words=[]\n",
    "    for i in words:\n",
    "        cap_words.append(i.capitalize())\n",
    "    cap_sentence = ' '.join(cap_words)\n",
    "    print(cap_sentence)\n",
    "input_sentence = input(\"Enter a sentence: \")\n",
    "capitalizing(input_sentence)"
   ]
  },
  {
   "cell_type": "code",
   "execution_count": 21,
   "id": "35aee206-79da-48ca-9e5f-926547e85051",
   "metadata": {},
   "outputs": [
    {
     "name": "stdout",
     "output_type": "stream",
     "text": [
      "0000\n",
      "0001\n",
      "0010\n",
      "0011\n",
      "0100\n",
      "0101\n",
      "0110\n",
      "0111\n",
      "1000\n",
      "1001\n",
      "1010\n",
      "1011\n",
      "1100\n",
      "1101\n",
      "1110\n",
      "1111\n"
     ]
    }
   ],
   "source": [
    "def generate_binary_strings(n, prefix=\"\"):\n",
    "    if n == 0:\n",
    "        print(prefix)\n",
    "    else:\n",
    "        generate_binary_strings(n - 1, prefix + \"0\")\n",
    "        generate_binary_strings(n - 1, prefix + \"1\")\n",
    "\n",
    "n_bits = 4\n",
    "generate_binary_strings(n_bits)"
   ]
  },
  {
   "cell_type": "code",
   "execution_count": 25,
   "id": "ce50bb98-dad7-405e-9933-3c7cc527b317",
   "metadata": {},
   "outputs": [
    {
     "name": "stdout",
     "output_type": "stream",
     "text": [
      "Union:  {1, 2, 3, 4, 5, 6, 7}\n",
      "Intersection:  {3, 4, 5}\n",
      "Difference :  {1, 2}\n",
      "symmetric difference :  {1, 2, 6, 7}\n"
     ]
    }
   ],
   "source": [
    "set1={1,2,3,4,5}\n",
    "set2={3,4,5,6,7}\n",
    "union_result=set1.union(set2)\n",
    "union_intersection=set1.intersection(set2)\n",
    "union_difference=set1.difference(set2)\n",
    "symmetric_difference_result = set1.symmetric_difference(set2)\n",
    "print(\"Union: \",union_result)\n",
    "print(\"Intersection: \",union_intersection)\n",
    "print(\"Difference : \",union_difference)\n",
    "print(\"symmetric difference : \",symmetric_difference_result)"
   ]
  },
  {
   "cell_type": "code",
   "execution_count": 29,
   "id": "6ecb9711-043e-4104-b652-c70c57753815",
   "metadata": {},
   "outputs": [
    {
     "name": "stdin",
     "output_type": "stream",
     "text": [
      "enter a string  missim\n"
     ]
    },
    {
     "name": "stdout",
     "output_type": "stream",
     "text": [
      "True\n"
     ]
    }
   ],
   "source": [
    "def palindrome(x):\n",
    "    for i in range(0,len(x)):\n",
    "        if(x[i]==x[len(x)-i-1]):\n",
    "            return True\n",
    "        else:\n",
    "            return False\n",
    "Input=input(\"enter a string \")\n",
    "c=palindrome(Input)\n",
    "print(c)"
   ]
  },
  {
   "cell_type": "code",
   "execution_count": null,
   "id": "908250ad-de11-4c96-bc57-4d3afb952045",
   "metadata": {},
   "outputs": [],
   "source": []
  }
 ],
 "metadata": {
  "kernelspec": {
   "display_name": "Python 3 (ipykernel)",
   "language": "python",
   "name": "python3"
  },
  "language_info": {
   "codemirror_mode": {
    "name": "ipython",
    "version": 3
   },
   "file_extension": ".py",
   "mimetype": "text/x-python",
   "name": "python",
   "nbconvert_exporter": "python",
   "pygments_lexer": "ipython3",
   "version": "3.12.4"
  }
 },
 "nbformat": 4,
 "nbformat_minor": 5
}
