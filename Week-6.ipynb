{
 "cells": [
  {
   "cell_type": "code",
   "execution_count": 1,
   "id": "36fec702-7b76-4feb-bc8b-8f7ad3d4fe07",
   "metadata": {},
   "outputs": [
    {
     "name": "stdin",
     "output_type": "stream",
     "text": [
      "enter an number 4\n",
      "enter other number 5\n"
     ]
    },
    {
     "name": "stdout",
     "output_type": "stream",
     "text": [
      "result: 0.8\n"
     ]
    }
   ],
   "source": [
    "#1.\tWrite a program that detects an Exception\n",
    "try:\n",
    "    num1=int(input(\"enter an number\"))\n",
    "    num2=int(input(\"enter other number\"))\n",
    "    result=num1/num2\n",
    "    print(\"result:\",result)\n",
    "except ZeroDivisionError:\n",
    "    print(\"Division by zero is not accepted\")\n",
    "except ValueError:\n",
    "    print(\"enter only integers\")\n",
    "except Exception as e:\n",
    "    print(\"an error occured\",str(e))"
   ]
  },
  {
   "cell_type": "code",
   "execution_count": 3,
   "id": "0ae47a0a-c6bb-420a-b3b8-801cea57c088",
   "metadata": {},
   "outputs": [
    {
     "name": "stdin",
     "output_type": "stream",
     "text": [
      "enter the age 19\n"
     ]
    },
    {
     "name": "stdout",
     "output_type": "stream",
     "text": [
      "valid age\n"
     ]
    }
   ],
   "source": [
    "#2.\tWrite a program that raise an Exception ( divide by zero error,voter’s age validity\n",
    "def voter_age(age):\n",
    "    try:\n",
    "        num=int(age)\n",
    "        if(num>18):\n",
    "            print(\"valid age\")\n",
    "        elif(num<18):\n",
    "            print(\"not a valid age\")\n",
    "    except Exception as e:\n",
    "        print(\"enter only integers:\",str(e))\n",
    "num=input(\"enter the age\")\n",
    "voter_age(num)"
   ]
  },
  {
   "cell_type": "code",
   "execution_count": 5,
   "id": "f82c2f49-4e52-45af-899e-0876f337761f",
   "metadata": {},
   "outputs": [
    {
     "name": "stdin",
     "output_type": "stream",
     "text": [
      "enter students marks 34\n"
     ]
    },
    {
     "name": "stdout",
     "output_type": "stream",
     "text": [
      "valid number\n"
     ]
    }
   ],
   "source": [
    "#3.\tWrite a program that raise an Exception as string(), student mark range validation\n",
    "\n",
    "def students_mark(marks):\n",
    "    try:\n",
    "        num=int(marks)\n",
    "        if(num>0):\n",
    "            print(\"valid number\")\n",
    "        elif(num<0 or num==0):\n",
    "            print(\"not valid\")\n",
    "    except Exception as e:\n",
    "        print(\"enter only integers :\",str(e))\n",
    "num=input(\"enter students marks\")\n",
    "students_mark(num)"
   ]
  },
  {
   "cell_type": "code",
   "execution_count": 7,
   "id": "2e43800a-7af4-4974-b849-5d2367b7feb7",
   "metadata": {},
   "outputs": [
    {
     "name": "stdin",
     "output_type": "stream",
     "text": [
      "enter a number ^\n"
     ]
    },
    {
     "name": "stdout",
     "output_type": "stream",
     "text": [
      "error occured : invalid literal for int() with base 10: '^'\n",
      "program completed successfully\n"
     ]
    }
   ],
   "source": [
    "#4.\tUse the structure of exception handling all general purpose exceptions.\n",
    "try:\n",
    "    num1=int(input(\"enter a number\"))\n",
    "    num2=int(input(\"enter other number\"))\n",
    "    result=num1/num2\n",
    "    print(\"result : \",result)\n",
    "except Exception as e:\n",
    "    print(\"error occured :\",str(e))\n",
    "else:\n",
    "    print(\"division successful\")\n",
    "finally:\n",
    "    print(\"program completed successfully\")\n"
   ]
  },
  {
   "cell_type": "code",
   "execution_count": 9,
   "id": "47c349c3-8260-46d6-872d-5974c67a7b53",
   "metadata": {},
   "outputs": [
    {
     "name": "stdin",
     "output_type": "stream",
     "text": [
      "enter phone number 8347868346\n"
     ]
    },
    {
     "name": "stdout",
     "output_type": "stream",
     "text": [
      "phone number is valid\n"
     ]
    }
   ],
   "source": [
    "#5. Write a python code to read a phone number and email-id from the user and validate it for correctness\n",
    "import re\n",
    "def Validate_phone(phone):\n",
    "    pattern=r'^\\d{10}$'\n",
    "    if re.match(pattern,phone):\n",
    "        return True\n",
    "    else:\n",
    "        return False\n",
    "try:\n",
    "    phone=input(\"enter phone number\")\n",
    "    if Validate_phone(phone):\n",
    "        print(\"phone number is valid\")\n",
    "    else:\n",
    "        print(\"phone number is not valid\")\n",
    "except Exception as e:\n",
    "    print(\"exception : \",str(e))\n",
    " \n"
   ]
  },
  {
   "cell_type": "code",
   "execution_count": null,
   "id": "9850e391-e9ea-41dc-9afb-49018a7ca88a",
   "metadata": {},
   "outputs": [],
   "source": [
    "import re\n",
    "def email_id(id):\n",
    "    pattern=r'^[a-zA-Z0-9._+*-]+@[a-zA-Z0-9.-]+\\.[a-zA-Z]{2,}$'\n",
    "    if re.match(pattern,id):\n",
    "        return True\n",
    "    else:\n",
    "        return False\n",
    "try:\n",
    "    id=input(\"enter your email-id\")\n",
    "    if(email_id(id)):\n",
    "        print(\"id is correct\")\n",
    "    else:\n",
    "        print(\"id is incorrect\")\n",
    "except Exception as e:\n",
    "    print(\"Exception : \",str(e))\n"
   ]
  }
 ],
 "metadata": {
  "kernelspec": {
   "display_name": "Python 3 (ipykernel)",
   "language": "python",
   "name": "python3"
  },
  "language_info": {
   "codemirror_mode": {
    "name": "ipython",
    "version": 3
   },
   "file_extension": ".py",
   "mimetype": "text/x-python",
   "name": "python",
   "nbconvert_exporter": "python",
   "pygments_lexer": "ipython3",
   "version": "3.12.4"
  }
 },
 "nbformat": 4,
 "nbformat_minor": 5
}
