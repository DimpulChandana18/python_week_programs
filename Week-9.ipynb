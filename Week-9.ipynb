{
 "cells": [
  {
   "cell_type": "code",
   "execution_count": 1,
   "id": "74419280-47c9-451c-bb05-585b558fd235",
   "metadata": {},
   "outputs": [
    {
     "name": "stdout",
     "output_type": "stream",
     "text": [
      "[10 20 30 40 50]\n",
      "<class 'numpy.ndarray'>\n"
     ]
    }
   ],
   "source": [
    "import numpy as np \n",
    "arr1 = np.array([10,20,30,40,50]) \n",
    "print(arr1)\n",
    "print(type(arr1)) "
   ]
  },
  {
   "cell_type": "code",
   "execution_count": 11,
   "id": "a34b74a0-4b6e-4d32-8d68-7289cc3d15e5",
   "metadata": {},
   "outputs": [
    {
     "name": "stdout",
     "output_type": "stream",
     "text": [
      "[1 2 3 4 5]\n",
      "1\n"
     ]
    }
   ],
   "source": [
    "#1-D Arrays\n",
    "import numpy as np\n",
    "arr = np.array([1, 2, 3, 4, 5])  \n",
    "print(arr)\n",
    "print(arr[0])"
   ]
  },
  {
   "cell_type": "code",
   "execution_count": 15,
   "id": "cf1a8550-1731-437e-b91e-9a97b6dcc96c",
   "metadata": {},
   "outputs": [
    {
     "name": "stdout",
     "output_type": "stream",
     "text": [
      "[[1 2 3]\n",
      " [4 5 6]]\n",
      "5\n",
      "[4 5 6]\n"
     ]
    }
   ],
   "source": [
    "#2-D Arrays\n",
    "import numpy as np \n",
    "arr = np.array([[1, 2, 3], [4, 5, 6]]) \n",
    "print(arr) \n",
    "print(arr[1][1]) \n",
    "print(arr[1])"
   ]
  },
  {
   "cell_type": "code",
   "execution_count": 17,
   "id": "0e8b9f84-55de-4104-9475-37fb8222cd05",
   "metadata": {},
   "outputs": [
    {
     "name": "stdout",
     "output_type": "stream",
     "text": [
      "2\n"
     ]
    }
   ],
   "source": [
    "#Dimension\n",
    "import numpy as np \n",
    "arr = np.array([[1, 2, 3], [4, 5, 6]]) \n",
    "print(arr.ndim) \n"
   ]
  },
  {
   "cell_type": "code",
   "execution_count": 21,
   "id": "e77fd8f0-431c-4ec2-8105-f17f3c113716",
   "metadata": {},
   "outputs": [
    {
     "name": "stdout",
     "output_type": "stream",
     "text": [
      "8\n"
     ]
    }
   ],
   "source": [
    "#Size of each element (in bytes)\n",
    "#Program:\n",
    "import numpy as np \n",
    "arr = np.array([[1, 2, 3], [4, 5, 6]]) \n",
    "print(arr.itemsize)"
   ]
  },
  {
   "cell_type": "code",
   "execution_count": 23,
   "id": "8c8bb601-9f12-4e7a-bab9-4645dcc35074",
   "metadata": {},
   "outputs": [
    {
     "name": "stdout",
     "output_type": "stream",
     "text": [
      "int64\n"
     ]
    }
   ],
   "source": [
    "#Datatype\n",
    "#Program:\n",
    "import numpy as np \n",
    "arr = np.array([[1, 2, 3], [4, 5, 6]]) \n",
    "print(arr.dtype) "
   ]
  },
  {
   "cell_type": "code",
   "execution_count": 25,
   "id": "3783c9d6-304a-4abe-a011-406fb9010723",
   "metadata": {},
   "outputs": [
    {
     "name": "stdout",
     "output_type": "stream",
     "text": [
      "6\n",
      "(2, 3)\n"
     ]
    }
   ],
   "source": [
    "#Size and Shape\n",
    "#Program:\n",
    "import numpy as np \n",
    "arr = np.array([[1, 2, 3], [4, 5, 6]]) \n",
    "print(arr.size) \n",
    "print(arr.shape) "
   ]
  },
  {
   "cell_type": "code",
   "execution_count": 27,
   "id": "a5ccaaf3-b671-4102-9a87-2ec1f332819f",
   "metadata": {},
   "outputs": [
    {
     "name": "stdout",
     "output_type": "stream",
     "text": [
      "[[1 2]\n",
      " [3 4]\n",
      " [5 6]]\n"
     ]
    }
   ],
   "source": [
    "#Reshape\n",
    "#Program:\n",
    "import numpy as np \n",
    "arr = np.array([[1, 2, 3], [4, 5, 6]]) \n",
    "a=arr.reshape(3,2)\n",
    "print(a) "
   ]
  },
  {
   "cell_type": "code",
   "execution_count": 29,
   "id": "57d9c166-edc8-4a27-94cb-876327db7896",
   "metadata": {},
   "outputs": [
    {
     "name": "stdout",
     "output_type": "stream",
     "text": [
      "[3 6]\n"
     ]
    }
   ],
   "source": [
    "#Slicing\n",
    "#Program:\n",
    "import numpy as np \n",
    "arr = np.array([[1, 2, 3], [4, 5, 6]]) \n",
    "print(arr[0:,2]) "
   ]
  },
  {
   "cell_type": "code",
   "execution_count": 33,
   "id": "098ba33c-fcd1-4485-a1af-e3429eaa7014",
   "metadata": {},
   "outputs": [
    {
     "name": "stdout",
     "output_type": "stream",
     "text": [
      "1\n",
      "6\n",
      "21\n"
     ]
    }
   ],
   "source": [
    "#Min/Max/Sum\n",
    "#Program:\n",
    "import numpy as np \n",
    "arr = np.array([[1, 2, 3], [4, 5, 6]]) \n",
    "print(arr.min())\n",
    "print(arr.max())\n",
    "print(arr.sum())"
   ]
  },
  {
   "cell_type": "code",
   "execution_count": 37,
   "id": "f3b40a03-2a6d-4ea9-b286-afef70cbed6c",
   "metadata": {},
   "outputs": [
    {
     "name": "stdout",
     "output_type": "stream",
     "text": [
      "[2 3 4 5]\n",
      "[5 6 7]\n",
      "[1 2 3 4]\n",
      "[5 6]\n",
      "[2 4]\n",
      "[1 3 5 7]\n"
     ]
    }
   ],
   "source": [
    "#3. Write a program for slicing arrays using numpy .\n",
    "#Program:\n",
    "import numpy as np \n",
    "arr = np.array([1, 2, 3, 4, 5, 6, 7]) \n",
    "print(arr[1:5]) \n",
    "print(arr[4:]) \n",
    "print(arr[:4]) \n",
    "print(arr[-3:-1]) \n",
    "print(arr[1:5:2])\n",
    "print(arr[::2])"
   ]
  },
  {
   "cell_type": "code",
   "execution_count": 39,
   "id": "fb9c0c72-2f3b-45f5-b94d-eb8e565ebcbe",
   "metadata": {},
   "outputs": [
    {
     "name": "stdout",
     "output_type": "stream",
     "text": [
      "[[1.         1.41421356 1.73205081]\n",
      " [2.         2.23606798 2.44948974]]\n",
      "1.707825127659933\n"
     ]
    }
   ],
   "source": [
    "#4. Write a program for Math operations on array using numpy. Square Root and Standard Deviation\n",
    "import numpy as np\n",
    "arr=np.array([[1,2,3],[4,5,6]])\n",
    "print(np.sqrt(arr))\n",
    "print(np.std(arr))"
   ]
  },
  {
   "cell_type": "code",
   "execution_count": 41,
   "id": "a2003651-8075-413f-b10e-6446d15a52b2",
   "metadata": {},
   "outputs": [
    {
     "name": "stdout",
     "output_type": "stream",
     "text": [
      "[[ 2  4  6]\n",
      " [ 8 10 12]]\n",
      "[[0 0 0]\n",
      " [0 0 0]]\n",
      "[[ 1  4  9]\n",
      " [16 25 36]]\n",
      "[[1. 1. 1.]\n",
      " [1. 1. 1.]]\n"
     ]
    }
   ],
   "source": [
    "#•\t Addition, subtraction, multiplication and division of the two matrices\n",
    "#Program:\n",
    "import numpy as np\n",
    "arr1=np.array([[1,2,3],[4,5,6]])\n",
    "arr2=np.array([[1,2,3],[4,5,6]])\n",
    "print(arr1+arr2)\n",
    "print(arr1-arr2)\n",
    "print(arr1*arr2)\n",
    "print(arr1/arr2)"
   ]
  },
  {
   "cell_type": "code",
   "execution_count": 43,
   "id": "5b0c50af-ae93-469b-ac99-39d1957813b1",
   "metadata": {},
   "outputs": [
    {
     "name": "stdout",
     "output_type": "stream",
     "text": [
      "vstack: [[ 1  2  3]\n",
      " [ 4  5  6]\n",
      " [ 7  8  9]\n",
      " [10 11 12]]\n",
      "hstack: [[ 1  2  3  7  8  9]\n",
      " [ 4  5  6 10 11 12]]\n"
     ]
    }
   ],
   "source": [
    "#•\tVertical and Horizontal Stacking\n",
    "#Program:\n",
    "import numpy as np\n",
    "arr1=np.array([[1,2,3],[4,5,6]])\n",
    "arr2=np.array([[7,8,9],[10,11,12]])\n",
    "print(\"vstack:\",np.vstack((arr1,arr2)))\n",
    "print(\"hstack:\",np.hstack((arr1,arr2)))"
   ]
  },
  {
   "cell_type": "code",
   "execution_count": 45,
   "id": "c49b4ada-3e9a-4500-abe9-e28581ca6182",
   "metadata": {},
   "outputs": [
    {
     "name": "stdout",
     "output_type": "stream",
     "text": [
      "[1 2 3 4 5 6]\n"
     ]
    }
   ],
   "source": [
    "#•\tRavel:\n",
    "#Program:\n",
    "import numpy as np\n",
    "arr=np.array([[1,2,3],[4,5,6]])\n",
    "print(np.ravel(arr))"
   ]
  },
  {
   "cell_type": "code",
   "execution_count": 47,
   "id": "86683d83-dbf0-47c4-8e1c-8c14908e3b30",
   "metadata": {},
   "outputs": [
    {
     "name": "stdout",
     "output_type": "stream",
     "text": [
      "(array([2]),)\n"
     ]
    }
   ],
   "source": [
    "#5. Write a program for searching .\n",
    "#Program:\n",
    "import numpy as np\n",
    "arr = np.array([10, 32, 30, 50, 20, 82, 91, 45])\n",
    "i = np.where(arr == 30)\n",
    "print(i)"
   ]
  },
  {
   "cell_type": "code",
   "execution_count": 49,
   "id": "61af6e1b-8ea4-4767-8008-28ceb3df1851",
   "metadata": {},
   "outputs": [
    {
     "name": "stdout",
     "output_type": "stream",
     "text": [
      "[[ 1  2  3  4]\n",
      " [ 1  9 13 61]\n",
      " [22 24 43 88]]\n"
     ]
    }
   ],
   "source": [
    "#6. Write a program for sorting.\n",
    "#Program:\n",
    "import numpy as np  \n",
    "arr=np.array([[1,4,2,3],[9,13,61,1],[43,24,88,22]])  \n",
    "sort_arr=np.sort(arr)  \n",
    "print(sort_arr)"
   ]
  },
  {
   "cell_type": "code",
   "execution_count": null,
   "id": "8b61dd71-27fa-4228-bcbf-13d6ec798b54",
   "metadata": {},
   "outputs": [],
   "source": []
  }
 ],
 "metadata": {
  "kernelspec": {
   "display_name": "Python 3 (ipykernel)",
   "language": "python",
   "name": "python3"
  },
  "language_info": {
   "codemirror_mode": {
    "name": "ipython",
    "version": 3
   },
   "file_extension": ".py",
   "mimetype": "text/x-python",
   "name": "python",
   "nbconvert_exporter": "python",
   "pygments_lexer": "ipython3",
   "version": "3.12.4"
  }
 },
 "nbformat": 4,
 "nbformat_minor": 5
}
