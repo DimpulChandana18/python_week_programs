{
 "cells": [
  {
   "cell_type": "code",
   "execution_count": 1,
   "id": "61e26806-98dc-4fdc-a53e-587f570fd2c2",
   "metadata": {},
   "outputs": [
    {
     "name": "stdin",
     "output_type": "stream",
     "text": [
      "enter a number 5\n",
      "enter a number 10\n"
     ]
    },
    {
     "name": "stdout",
     "output_type": "stream",
     "text": [
      "add: 15\n",
      "sub: -5\n",
      "multiplication: 50\n",
      "division: 0.5\n"
     ]
    }
   ],
   "source": [
    "a=int(input(\"enter a number\"))\n",
    "b=int(input(\"enter a number\"))\n",
    "print(\"add:\",a+b)\n",
    "print(\"sub:\",a-b)\n",
    "print(\"multiplication:\",a*b)\n",
    "print(\"division:\",a/b)"
   ]
  },
  {
   "cell_type": "code",
   "execution_count": 3,
   "id": "e510817c-fe29-45f0-9fb9-1456a5f247e9",
   "metadata": {},
   "outputs": [
    {
     "ename": "IndentationError",
     "evalue": "unexpected indent (2251807669.py, line 2)",
     "output_type": "error",
     "traceback": [
      "\u001b[1;36m  Cell \u001b[1;32mIn[3], line 2\u001b[1;36m\u001b[0m\n\u001b[1;33m    b=2\u001b[0m\n\u001b[1;37m    ^\u001b[0m\n\u001b[1;31mIndentationError\u001b[0m\u001b[1;31m:\u001b[0m unexpected indent\n"
     ]
    }
   ],
   "source": [
    "a=5\n",
    "    b=2\n",
    "print(\"add:\",a+b)"
   ]
  },
  {
   "cell_type": "code",
   "execution_count": 9,
   "id": "c51427ee-6830-4897-9798-6eceaeb578eb",
   "metadata": {},
   "outputs": [
    {
     "name": "stdout",
     "output_type": "stream",
     "text": [
      "add: 7\n"
     ]
    }
   ],
   "source": [
    "a=5\n",
    "b=2\n",
    "print(\"add:\",a+b)"
   ]
  },
  {
   "cell_type": "code",
   "execution_count": 11,
   "id": "e7dde62e-1b36-431e-8fde-2d9e04c6e47d",
   "metadata": {},
   "outputs": [
    {
     "name": "stdout",
     "output_type": "stream",
     "text": [
      "amount after time period 1061.208\n",
      "compound intrest: 61.208000000000084\n"
     ]
    }
   ],
   "source": [
    "p=1000\n",
    "r=2\n",
    "t=3\n",
    "A=p*((1+r/100)**t)\n",
    "CI=A-p\n",
    "print(\"amount after time period\",A)\n",
    "print(\"compound intrest:\",CI)"
   ]
  },
  {
   "cell_type": "code",
   "execution_count": 13,
   "id": "fbe9ba3d-5cda-41bc-99f1-8bf464e8c9f6",
   "metadata": {},
   "outputs": [
    {
     "name": "stdin",
     "output_type": "stream",
     "text": [
      "enter the x1 value 4\n",
      "enter the x2 value 3\n",
      "enter the y1 value 5\n",
      "enter the y2 value 4\n"
     ]
    },
    {
     "name": "stdout",
     "output_type": "stream",
     "text": [
      "distance between two given points is  1.4142135623730951\n"
     ]
    }
   ],
   "source": [
    "x1=int(input(\"enter the x1 value\"))\n",
    "x2=int(input(\"enter the x2 value\"))\n",
    "y1=int(input(\"enter the y1 value\"))\n",
    "y2=int(input(\"enter the y2 value\"))\n",
    "d=((x1-x2)**2+(y1-y2)**2)**(1/2)\n",
    "print(\"distance between two given points is \",d)"
   ]
  },
  {
   "cell_type": "code",
   "execution_count": 15,
   "id": "cd67288f-d011-4c27-a4c8-068181e7cf0f",
   "metadata": {},
   "outputs": [
    {
     "name": "stdin",
     "output_type": "stream",
     "text": [
      "enter your name   Dimpul Chandana\n",
      "enter your email-id  : dimpulchandanachappidi@gmail.com\n",
      "enter your phone number  : 09177862727\n",
      "enter your address : xyz\n"
     ]
    },
    {
     "name": "stdout",
     "output_type": "stream",
     "text": [
      "Name: Dimpul Chandana\n",
      "Email-id: dimpulchandanachappidi@gmail.com\n",
      "Phone-no: 9177862727\n",
      "Address: xyz\n"
     ]
    }
   ],
   "source": [
    "name=input(\"enter your name  \")\n",
    "email_id=input(\"enter your email-id  :\")\n",
    "phone_no=int(input(\"enter your phone number  :\"))\n",
    "address=input(\"enter your address :\")\n",
    "print(\"Name:\",name)\n",
    "print(\"Email-id:\",email_id)\n",
    "print(\"Phone-no:\",phone_no)\n",
    "print(\"Address:\",address)"
   ]
  },
  {
   "cell_type": "code",
   "execution_count": null,
   "id": "28c341d9-bc0a-4be4-992c-c0260478f1fc",
   "metadata": {},
   "outputs": [],
   "source": []
  }
 ],
 "metadata": {
  "kernelspec": {
   "display_name": "Python 3 (ipykernel)",
   "language": "python",
   "name": "python3"
  },
  "language_info": {
   "codemirror_mode": {
    "name": "ipython",
    "version": 3
   },
   "file_extension": ".py",
   "mimetype": "text/x-python",
   "name": "python",
   "nbconvert_exporter": "python",
   "pygments_lexer": "ipython3",
   "version": "3.12.4"
  }
 },
 "nbformat": 4,
 "nbformat_minor": 5
}
